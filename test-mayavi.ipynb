{
 "cells": [
  {
   "cell_type": "code",
   "execution_count": 1,
   "id": "bbba0ec5",
   "metadata": {},
   "outputs": [],
   "source": [
    "from mayavi import mlab"
   ]
  },
  {
   "cell_type": "code",
   "execution_count": 2,
   "id": "184c7e9a",
   "metadata": {},
   "outputs": [
    {
     "name": "stderr",
     "output_type": "stream",
     "text": [
      "qt.qpa.window: <QNSWindow: 0x7ffb5e43a350; contentView=<QNSView: 0x7ffb5e439ae0; QCocoaWindow(0x7ffb5e4399d0, window=QWidgetWindow(0x7ffb5e439520, name=\"QMainWindowClassWindow\"))>> has active key-value observers (KVO)! These will stop working now that the window is recreated, and will result in exceptions when the observers are removed. Break in QCocoaWindow::recreateWindowIfNeeded to debug.\n"
     ]
    },
    {
     "data": {
      "text/plain": [
       "<mayavi.modules.glyph.Glyph at 0x14415fc40>"
      ]
     },
     "execution_count": 2,
     "metadata": {},
     "output_type": "execute_result"
    }
   ],
   "source": [
    "mlab.points3d(1,1,1)"
   ]
  },
  {
   "cell_type": "code",
   "execution_count": 3,
   "id": "2d216d0a",
   "metadata": {},
   "outputs": [],
   "source": [
    "mlab.show()"
   ]
  },
  {
   "cell_type": "code",
   "execution_count": null,
   "id": "4cf76c18",
   "metadata": {},
   "outputs": [],
   "source": []
  }
 ],
 "metadata": {
  "kernelspec": {
   "display_name": "lite-simsopt-mayavi",
   "language": "python",
   "name": "lite-simsopt-mayavi"
  },
  "language_info": {
   "codemirror_mode": {
    "name": "ipython",
    "version": 3
   },
   "file_extension": ".py",
   "mimetype": "text/x-python",
   "name": "python",
   "nbconvert_exporter": "python",
   "pygments_lexer": "ipython3",
   "version": "3.10.13"
  }
 },
 "nbformat": 4,
 "nbformat_minor": 5
}
